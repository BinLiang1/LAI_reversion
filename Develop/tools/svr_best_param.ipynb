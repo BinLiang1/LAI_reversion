{
 "cells": [
  {
   "cell_type": "code",
   "execution_count": 5,
   "metadata": {},
   "outputs": [],
   "source": [
    "from classifer.classifer_base import Classifier\n",
    "from sklearn.preprocessing import StandardScaler\n",
    "\n",
    "data = Classifier.read_data(\"./data/1BAN.csv\")\n",
    "train, val = Classifier.random_split_scikit(data, ratio=0.65, seed=10)\n",
    "\n",
    "scaler = StandardScaler()\n",
    "train.x = scaler.fit_transform(train.x)\n",
    "val.x = scaler.transform(val.x)\n"
   ]
  },
  {
   "cell_type": "code",
   "execution_count": 8,
   "metadata": {},
   "outputs": [
    {
     "name": "stdout",
     "output_type": "stream",
     "text": [
      "0.2718005081632653\n",
      "percentage within epsilon (0.2718005081632653), kernel (linear): 72.22\n",
      "percentage within epsilon (0.2718005081632653), kernel (poly): 66.67\n",
      "percentage within epsilon (0.2718005081632653), kernel (rbf): 72.22\n",
      "percentage within epsilon (0.2718005081632653), kernel (sigmoid): 72.22\n"
     ]
    }
   ],
   "source": [
    "from sklearn.model_selection import GridSearchCV\n",
    "from sklearn.svm import SVR\n",
    "import numpy as np\n",
    "from matplotlib import pyplot as plt\n",
    "\n",
    "SVR_C = 1.0 # math.pow(10, N) N : -4 ~ 3\n",
    "SVR_KERNEL = [\"linear\", \"poly\", \"rbf\", \"sigmoid\"]\n",
    "SVR_EPSION = np.mean(data.gt) * 0.15 # 85% 的准确率\n",
    "print(SVR_EPSION)\n",
    "SVR_GAMMA = \"auto\"\n",
    "\n",
    "for kernel in SVR_KERNEL:\n",
    "    model = SVR(kernel=kernel,\n",
    "                gamma=SVR_GAMMA,\n",
    "                epsilon=SVR_EPSION,\n",
    "                C=SVR_C)\n",
    "\n",
    "    model.fit(train.x, train.gt)\n",
    "    val_pred = model.predict(val.x)\n",
    "\n",
    "    perc_within_eps = 100.0 * np.sum((val.gt - val_pred) < SVR_EPSION) / len(val.gt)\n",
    "    print(f\"percentage within epsilon ({SVR_EPSION}), kernel ({kernel}): {perc_within_eps:.2f}\")"
   ]
  },
  {
   "cell_type": "code",
   "execution_count": 9,
   "metadata": {},
   "outputs": [
    {
     "data": {
      "image/png": "[encoded data removed]",
      "text/plain": [
       "<Figure size 640x480 with 1 Axes>"
      ]
     },
     "metadata": {},
     "output_type": "display_data"
    }
   ],
   "source": [
    "SVR_KERNEL = \"rbf\"\n",
    "\n",
    "SVR_C = np.linspace(0.0001, 100, 1000) # math.pow(10, N) N : -4 ~ 3\n",
    "\n",
    "perc_list = []\n",
    "for C in SVR_C:\n",
    "    model = SVR(kernel=SVR_KERNEL,\n",
    "                gamma=SVR_GAMMA,\n",
    "                epsilon=SVR_EPSION,\n",
    "                C=C)\n",
    "\n",
    "    model.fit(train.x, train.gt)\n",
    "    val_pred = model.predict(val.x)\n",
    "\n",
    "    perc_within_eps = 100.0 * np.sum((val.gt - val_pred) < SVR_EPSION) / len(val.gt)\n",
    "    perc_list.append(perc_within_eps)\n",
    "\n",
    "plt.plot(SVR_C, perc_list)\n",
    "plt.show()"
   ]
  }
 ],
 "metadata": {
  "kernelspec": {
   "display_name": "base",
   "language": "python",
   "name": "python3"
  },
  "language_info": {
   "codemirror_mode": {
    "name": "ipython",
    "version": 3
   },
   "file_extension": ".py",
   "mimetype": "text/x-python",
   "name": "python",
   "nbconvert_exporter": "python",
   "pygments_lexer": "ipython3",
   "version": "3.11.5"
  }
 },
 "nbformat": 4,
 "nbformat_minor": 2
}
